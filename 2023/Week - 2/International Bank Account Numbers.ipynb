{
 "cells": [
  {
   "cell_type": "code",
   "execution_count": 1,
   "id": "923fc873",
   "metadata": {},
   "outputs": [],
   "source": [
    "import numpy as np\n",
    "import pandas as pd"
   ]
  },
  {
   "cell_type": "code",
   "execution_count": 2,
   "id": "b83a2e20",
   "metadata": {},
   "outputs": [],
   "source": [
    "import os"
   ]
  },
  {
   "cell_type": "code",
   "execution_count": 3,
   "id": "7e6378c2",
   "metadata": {},
   "outputs": [
    {
     "data": {
      "text/plain": [
       "['.ipynb_checkpoints',\n",
       " 'International Bank Account Numbers.ipynb',\n",
       " 'Swift Codes.csv',\n",
       " 'Transactions.csv']"
      ]
     },
     "execution_count": 3,
     "metadata": {},
     "output_type": "execute_result"
    }
   ],
   "source": [
    "os.listdir()"
   ]
  },
  {
   "cell_type": "code",
   "execution_count": 4,
   "id": "26477e19",
   "metadata": {},
   "outputs": [],
   "source": [
    "trans = pd.read_csv(\"Transactions.csv\")\n",
    "codes = pd.read_csv(\"Swift Codes.csv\")"
   ]
  },
  {
   "cell_type": "code",
   "execution_count": 5,
   "id": "fe535832",
   "metadata": {},
   "outputs": [
    {
     "data": {
      "text/html": [
       "<div>\n",
       "<style scoped>\n",
       "    .dataframe tbody tr th:only-of-type {\n",
       "        vertical-align: middle;\n",
       "    }\n",
       "\n",
       "    .dataframe tbody tr th {\n",
       "        vertical-align: top;\n",
       "    }\n",
       "\n",
       "    .dataframe thead th {\n",
       "        text-align: right;\n",
       "    }\n",
       "</style>\n",
       "<table border=\"1\" class=\"dataframe\">\n",
       "  <thead>\n",
       "    <tr style=\"text-align: right;\">\n",
       "      <th></th>\n",
       "      <th>Transaction ID</th>\n",
       "      <th>Account Number</th>\n",
       "      <th>Sort Code</th>\n",
       "      <th>Bank</th>\n",
       "    </tr>\n",
       "  </thead>\n",
       "  <tbody>\n",
       "    <tr>\n",
       "      <th>0</th>\n",
       "      <td>3888</td>\n",
       "      <td>62230725</td>\n",
       "      <td>95-98-82</td>\n",
       "      <td>Data Source Bank</td>\n",
       "    </tr>\n",
       "    <tr>\n",
       "      <th>1</th>\n",
       "      <td>4746</td>\n",
       "      <td>83172326</td>\n",
       "      <td>42-86-38</td>\n",
       "      <td>Barclays Bank</td>\n",
       "    </tr>\n",
       "    <tr>\n",
       "      <th>2</th>\n",
       "      <td>5404</td>\n",
       "      <td>34302539</td>\n",
       "      <td>53-28-21</td>\n",
       "      <td>Barclays Bank</td>\n",
       "    </tr>\n",
       "    <tr>\n",
       "      <th>3</th>\n",
       "      <td>9013</td>\n",
       "      <td>13350031</td>\n",
       "      <td>93-87-71</td>\n",
       "      <td>Natwest</td>\n",
       "    </tr>\n",
       "    <tr>\n",
       "      <th>4</th>\n",
       "      <td>2535</td>\n",
       "      <td>68745993</td>\n",
       "      <td>57-14-32</td>\n",
       "      <td>Barclays Bank</td>\n",
       "    </tr>\n",
       "  </tbody>\n",
       "</table>\n",
       "</div>"
      ],
      "text/plain": [
       "   Transaction ID  Account Number Sort Code              Bank\n",
       "0            3888        62230725  95-98-82  Data Source Bank\n",
       "1            4746        83172326  42-86-38     Barclays Bank\n",
       "2            5404        34302539  53-28-21     Barclays Bank\n",
       "3            9013        13350031  93-87-71           Natwest\n",
       "4            2535        68745993  57-14-32     Barclays Bank"
      ]
     },
     "execution_count": 5,
     "metadata": {},
     "output_type": "execute_result"
    }
   ],
   "source": [
    "trans.head()"
   ]
  },
  {
   "cell_type": "code",
   "execution_count": 9,
   "id": "0e137ce8",
   "metadata": {},
   "outputs": [],
   "source": [
    "trans[\"Sort Code\"] = trans[\"Sort Code\"].replace(\"-\",\"\",regex = True)"
   ]
  },
  {
   "cell_type": "code",
   "execution_count": 10,
   "id": "04947a73",
   "metadata": {},
   "outputs": [
    {
     "data": {
      "text/html": [
       "<div>\n",
       "<style scoped>\n",
       "    .dataframe tbody tr th:only-of-type {\n",
       "        vertical-align: middle;\n",
       "    }\n",
       "\n",
       "    .dataframe tbody tr th {\n",
       "        vertical-align: top;\n",
       "    }\n",
       "\n",
       "    .dataframe thead th {\n",
       "        text-align: right;\n",
       "    }\n",
       "</style>\n",
       "<table border=\"1\" class=\"dataframe\">\n",
       "  <thead>\n",
       "    <tr style=\"text-align: right;\">\n",
       "      <th></th>\n",
       "      <th>Transaction ID</th>\n",
       "      <th>Account Number</th>\n",
       "      <th>Sort Code</th>\n",
       "      <th>Bank</th>\n",
       "    </tr>\n",
       "  </thead>\n",
       "  <tbody>\n",
       "    <tr>\n",
       "      <th>0</th>\n",
       "      <td>3888</td>\n",
       "      <td>62230725</td>\n",
       "      <td>959882</td>\n",
       "      <td>Data Source Bank</td>\n",
       "    </tr>\n",
       "    <tr>\n",
       "      <th>1</th>\n",
       "      <td>4746</td>\n",
       "      <td>83172326</td>\n",
       "      <td>428638</td>\n",
       "      <td>Barclays Bank</td>\n",
       "    </tr>\n",
       "    <tr>\n",
       "      <th>2</th>\n",
       "      <td>5404</td>\n",
       "      <td>34302539</td>\n",
       "      <td>532821</td>\n",
       "      <td>Barclays Bank</td>\n",
       "    </tr>\n",
       "    <tr>\n",
       "      <th>3</th>\n",
       "      <td>9013</td>\n",
       "      <td>13350031</td>\n",
       "      <td>938771</td>\n",
       "      <td>Natwest</td>\n",
       "    </tr>\n",
       "    <tr>\n",
       "      <th>4</th>\n",
       "      <td>2535</td>\n",
       "      <td>68745993</td>\n",
       "      <td>571432</td>\n",
       "      <td>Barclays Bank</td>\n",
       "    </tr>\n",
       "  </tbody>\n",
       "</table>\n",
       "</div>"
      ],
      "text/plain": [
       "   Transaction ID  Account Number Sort Code              Bank\n",
       "0            3888        62230725    959882  Data Source Bank\n",
       "1            4746        83172326    428638     Barclays Bank\n",
       "2            5404        34302539    532821     Barclays Bank\n",
       "3            9013        13350031    938771           Natwest\n",
       "4            2535        68745993    571432     Barclays Bank"
      ]
     },
     "execution_count": 10,
     "metadata": {},
     "output_type": "execute_result"
    }
   ],
   "source": [
    "trans.head()"
   ]
  },
  {
   "cell_type": "code",
   "execution_count": 11,
   "id": "59e5804a",
   "metadata": {},
   "outputs": [
    {
     "data": {
      "text/html": [
       "<div>\n",
       "<style scoped>\n",
       "    .dataframe tbody tr th:only-of-type {\n",
       "        vertical-align: middle;\n",
       "    }\n",
       "\n",
       "    .dataframe tbody tr th {\n",
       "        vertical-align: top;\n",
       "    }\n",
       "\n",
       "    .dataframe thead th {\n",
       "        text-align: right;\n",
       "    }\n",
       "</style>\n",
       "<table border=\"1\" class=\"dataframe\">\n",
       "  <thead>\n",
       "    <tr style=\"text-align: right;\">\n",
       "      <th></th>\n",
       "      <th>Bank</th>\n",
       "      <th>SWIFT code</th>\n",
       "      <th>Check Digits</th>\n",
       "    </tr>\n",
       "  </thead>\n",
       "  <tbody>\n",
       "    <tr>\n",
       "      <th>0</th>\n",
       "      <td>Lloyds Bank</td>\n",
       "      <td>LOYD</td>\n",
       "      <td>C1</td>\n",
       "    </tr>\n",
       "    <tr>\n",
       "      <th>1</th>\n",
       "      <td>Barclays Bank</td>\n",
       "      <td>BARC</td>\n",
       "      <td>22</td>\n",
       "    </tr>\n",
       "    <tr>\n",
       "      <th>2</th>\n",
       "      <td>Halifax</td>\n",
       "      <td>HLFX</td>\n",
       "      <td>22</td>\n",
       "    </tr>\n",
       "    <tr>\n",
       "      <th>3</th>\n",
       "      <td>HSBC</td>\n",
       "      <td>HBUK</td>\n",
       "      <td>4B</td>\n",
       "    </tr>\n",
       "    <tr>\n",
       "      <th>4</th>\n",
       "      <td>Natwest</td>\n",
       "      <td>NWBK</td>\n",
       "      <td>2L</td>\n",
       "    </tr>\n",
       "  </tbody>\n",
       "</table>\n",
       "</div>"
      ],
      "text/plain": [
       "            Bank SWIFT code Check Digits\n",
       "0    Lloyds Bank       LOYD           C1\n",
       "1  Barclays Bank       BARC           22\n",
       "2        Halifax       HLFX           22\n",
       "3           HSBC       HBUK           4B\n",
       "4        Natwest       NWBK           2L"
      ]
     },
     "execution_count": 11,
     "metadata": {},
     "output_type": "execute_result"
    }
   ],
   "source": [
    "codes.head()"
   ]
  },
  {
   "cell_type": "markdown",
   "id": "c4849f58",
   "metadata": {},
   "source": [
    "## Joing two Tables"
   ]
  },
  {
   "cell_type": "code",
   "execution_count": 12,
   "id": "1967c0bf",
   "metadata": {},
   "outputs": [],
   "source": [
    "df = pd.merge(trans,codes,how = \"inner\" , on= \"Bank\")"
   ]
  },
  {
   "cell_type": "code",
   "execution_count": 13,
   "id": "58f34cff",
   "metadata": {},
   "outputs": [
    {
     "data": {
      "text/html": [
       "<div>\n",
       "<style scoped>\n",
       "    .dataframe tbody tr th:only-of-type {\n",
       "        vertical-align: middle;\n",
       "    }\n",
       "\n",
       "    .dataframe tbody tr th {\n",
       "        vertical-align: top;\n",
       "    }\n",
       "\n",
       "    .dataframe thead th {\n",
       "        text-align: right;\n",
       "    }\n",
       "</style>\n",
       "<table border=\"1\" class=\"dataframe\">\n",
       "  <thead>\n",
       "    <tr style=\"text-align: right;\">\n",
       "      <th></th>\n",
       "      <th>Transaction ID</th>\n",
       "      <th>Account Number</th>\n",
       "      <th>Sort Code</th>\n",
       "      <th>Bank</th>\n",
       "      <th>SWIFT code</th>\n",
       "      <th>Check Digits</th>\n",
       "    </tr>\n",
       "  </thead>\n",
       "  <tbody>\n",
       "    <tr>\n",
       "      <th>0</th>\n",
       "      <td>3888</td>\n",
       "      <td>62230725</td>\n",
       "      <td>959882</td>\n",
       "      <td>Data Source Bank</td>\n",
       "      <td>DSBX</td>\n",
       "      <td>12</td>\n",
       "    </tr>\n",
       "    <tr>\n",
       "      <th>1</th>\n",
       "      <td>7086</td>\n",
       "      <td>56630552</td>\n",
       "      <td>597744</td>\n",
       "      <td>Data Source Bank</td>\n",
       "      <td>DSBX</td>\n",
       "      <td>12</td>\n",
       "    </tr>\n",
       "    <tr>\n",
       "      <th>2</th>\n",
       "      <td>1314</td>\n",
       "      <td>71210735</td>\n",
       "      <td>618579</td>\n",
       "      <td>Data Source Bank</td>\n",
       "      <td>DSBX</td>\n",
       "      <td>12</td>\n",
       "    </tr>\n",
       "    <tr>\n",
       "      <th>3</th>\n",
       "      <td>1493</td>\n",
       "      <td>12193988</td>\n",
       "      <td>865442</td>\n",
       "      <td>Data Source Bank</td>\n",
       "      <td>DSBX</td>\n",
       "      <td>12</td>\n",
       "    </tr>\n",
       "    <tr>\n",
       "      <th>4</th>\n",
       "      <td>1952</td>\n",
       "      <td>53786334</td>\n",
       "      <td>212754</td>\n",
       "      <td>Data Source Bank</td>\n",
       "      <td>DSBX</td>\n",
       "      <td>12</td>\n",
       "    </tr>\n",
       "  </tbody>\n",
       "</table>\n",
       "</div>"
      ],
      "text/plain": [
       "   Transaction ID  Account Number Sort Code              Bank SWIFT code  \\\n",
       "0            3888        62230725    959882  Data Source Bank       DSBX   \n",
       "1            7086        56630552    597744  Data Source Bank       DSBX   \n",
       "2            1314        71210735    618579  Data Source Bank       DSBX   \n",
       "3            1493        12193988    865442  Data Source Bank       DSBX   \n",
       "4            1952        53786334    212754  Data Source Bank       DSBX   \n",
       "\n",
       "  Check Digits  \n",
       "0           12  \n",
       "1           12  \n",
       "2           12  \n",
       "3           12  \n",
       "4           12  "
      ]
     },
     "execution_count": 13,
     "metadata": {},
     "output_type": "execute_result"
    }
   ],
   "source": [
    "df.head()"
   ]
  },
  {
   "cell_type": "code",
   "execution_count": 15,
   "id": "a650ef7c",
   "metadata": {},
   "outputs": [],
   "source": [
    "df[\"Country Code\"] = \"GB\""
   ]
  },
  {
   "cell_type": "code",
   "execution_count": 16,
   "id": "809ad4fa",
   "metadata": {},
   "outputs": [
    {
     "data": {
      "text/plain": [
       "Transaction ID     int64\n",
       "Account Number     int64\n",
       "Sort Code         object\n",
       "Bank              object\n",
       "SWIFT code        object\n",
       "Check Digits      object\n",
       "Country Code      object\n",
       "dtype: object"
      ]
     },
     "execution_count": 16,
     "metadata": {},
     "output_type": "execute_result"
    }
   ],
   "source": [
    "df.dtypes"
   ]
  },
  {
   "cell_type": "code",
   "execution_count": 22,
   "id": "64b71e4f",
   "metadata": {},
   "outputs": [],
   "source": [
    "df[\"Account Number\"] = df[\"Account Number\"].astype(\"str\")"
   ]
  },
  {
   "cell_type": "code",
   "execution_count": 23,
   "id": "541c135a",
   "metadata": {},
   "outputs": [
    {
     "data": {
      "text/plain": [
       "Transaction ID     int64\n",
       "Account Number    object\n",
       "Sort Code         object\n",
       "Bank              object\n",
       "SWIFT code        object\n",
       "Check Digits      object\n",
       "Country Code      object\n",
       "dtype: object"
      ]
     },
     "execution_count": 23,
     "metadata": {},
     "output_type": "execute_result"
    }
   ],
   "source": [
    "df.dtypes"
   ]
  },
  {
   "cell_type": "code",
   "execution_count": 24,
   "id": "b61a3b66",
   "metadata": {},
   "outputs": [],
   "source": [
    "df[\"IBAN\"] = df[\"Country Code\"] + df[\"Check Digits\"] + df[\"SWIFT code\"] + df[\"Sort Code\"] + df[\"Account Number\"]"
   ]
  },
  {
   "cell_type": "code",
   "execution_count": 25,
   "id": "3b15042e",
   "metadata": {},
   "outputs": [],
   "source": [
    "df_op = df[[\"Transaction ID\",\"IBAN\"]]"
   ]
  },
  {
   "cell_type": "code",
   "execution_count": 26,
   "id": "0e5f81a4",
   "metadata": {},
   "outputs": [
    {
     "data": {
      "text/html": [
       "<div>\n",
       "<style scoped>\n",
       "    .dataframe tbody tr th:only-of-type {\n",
       "        vertical-align: middle;\n",
       "    }\n",
       "\n",
       "    .dataframe tbody tr th {\n",
       "        vertical-align: top;\n",
       "    }\n",
       "\n",
       "    .dataframe thead th {\n",
       "        text-align: right;\n",
       "    }\n",
       "</style>\n",
       "<table border=\"1\" class=\"dataframe\">\n",
       "  <thead>\n",
       "    <tr style=\"text-align: right;\">\n",
       "      <th></th>\n",
       "      <th>Transaction ID</th>\n",
       "      <th>IBAN</th>\n",
       "    </tr>\n",
       "  </thead>\n",
       "  <tbody>\n",
       "    <tr>\n",
       "      <th>0</th>\n",
       "      <td>3888</td>\n",
       "      <td>GB12DSBX95988262230725</td>\n",
       "    </tr>\n",
       "    <tr>\n",
       "      <th>1</th>\n",
       "      <td>7086</td>\n",
       "      <td>GB12DSBX59774456630552</td>\n",
       "    </tr>\n",
       "    <tr>\n",
       "      <th>2</th>\n",
       "      <td>1314</td>\n",
       "      <td>GB12DSBX61857971210735</td>\n",
       "    </tr>\n",
       "    <tr>\n",
       "      <th>3</th>\n",
       "      <td>1493</td>\n",
       "      <td>GB12DSBX86544212193988</td>\n",
       "    </tr>\n",
       "    <tr>\n",
       "      <th>4</th>\n",
       "      <td>1952</td>\n",
       "      <td>GB12DSBX21275453786334</td>\n",
       "    </tr>\n",
       "  </tbody>\n",
       "</table>\n",
       "</div>"
      ],
      "text/plain": [
       "   Transaction ID                    IBAN\n",
       "0            3888  GB12DSBX95988262230725\n",
       "1            7086  GB12DSBX59774456630552\n",
       "2            1314  GB12DSBX61857971210735\n",
       "3            1493  GB12DSBX86544212193988\n",
       "4            1952  GB12DSBX21275453786334"
      ]
     },
     "execution_count": 26,
     "metadata": {},
     "output_type": "execute_result"
    }
   ],
   "source": [
    "df_op.head()"
   ]
  },
  {
   "cell_type": "code",
   "execution_count": null,
   "id": "19031272",
   "metadata": {},
   "outputs": [],
   "source": []
  }
 ],
 "metadata": {
  "kernelspec": {
   "display_name": "Python 3 (ipykernel)",
   "language": "python",
   "name": "python3"
  },
  "language_info": {
   "codemirror_mode": {
    "name": "ipython",
    "version": 3
   },
   "file_extension": ".py",
   "mimetype": "text/x-python",
   "name": "python",
   "nbconvert_exporter": "python",
   "pygments_lexer": "ipython3",
   "version": "3.9.7"
  }
 },
 "nbformat": 4,
 "nbformat_minor": 5
}
